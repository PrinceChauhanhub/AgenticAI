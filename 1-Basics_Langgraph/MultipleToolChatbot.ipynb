{
 "cells": [
  {
   "cell_type": "markdown",
   "id": "3a7e188e",
   "metadata": {},
   "source": [
    "## Building Chatbot with multiple tools using langgraph\n",
    "\n",
    "## AIM \n",
    "\n",
    "Create a chatbot with tool capabilities from arxiv, wikipedia, search and some functions"
   ]
  },
  {
   "cell_type": "code",
   "execution_count": 6,
   "id": "13013c2f",
   "metadata": {},
   "outputs": [],
   "source": [
    "from langchain_community.tools import ArxivQueryRun, WikipediaQueryRun\n",
    "from langchain_community.utilities import WikipediaAPIWrapper, ArxivAPIWrapper\n"
   ]
  },
  {
   "cell_type": "code",
   "execution_count": 7,
   "id": "e1a73446",
   "metadata": {},
   "outputs": [],
   "source": [
    "api_wrapper_arxiv = ArxivAPIWrapper(top_k_results=2, doc_content_chars_max=500)\n",
    "arxiv = ArxivQueryRun(api_wrapper=api_wrapper_arxiv)"
   ]
  },
  {
   "cell_type": "code",
   "execution_count": 8,
   "id": "c0475b36",
   "metadata": {},
   "outputs": [
    {
     "name": "stdout",
     "output_type": "stream",
     "text": [
      "arxiv\n"
     ]
    }
   ],
   "source": [
    "print(arxiv.name)"
   ]
  },
  {
   "cell_type": "code",
   "execution_count": 9,
   "id": "8b44e87d",
   "metadata": {},
   "outputs": [
    {
     "data": {
      "text/plain": [
       "\"Published: 2024-07-22\\nTitle: Attention Is All You Need But You Don't Need All Of It For Inference of Large Language Models\\nAuthors: Georgy Tyukin, Gbetondji J-S Dovonon, Jean Kaddour, Pasquale Minervini\\nSummary: The inference demand for LLMs has skyrocketed in recent months, and serving\\nmodels with low latencies remains challenging due to the quadratic input length\\ncomplexity of the attention layers. In this work, we investigate the effect of\\ndropping MLP and attention layers at inference time o\""
      ]
     },
     "execution_count": 9,
     "metadata": {},
     "output_type": "execute_result"
    }
   ],
   "source": [
    "arxiv.invoke(\"Attention is all you need\")"
   ]
  },
  {
   "cell_type": "code",
   "execution_count": 10,
   "id": "01540f37",
   "metadata": {},
   "outputs": [
    {
     "data": {
      "text/plain": [
       "'wikipedia'"
      ]
     },
     "execution_count": 10,
     "metadata": {},
     "output_type": "execute_result"
    }
   ],
   "source": [
    "api_wrapper_wiki = WikipediaAPIWrapper(top_k_results=1, doc_content_chars_max=500)\n",
    "wiki = WikipediaQueryRun(api_wrapper = api_wrapper_wiki)\n",
    "wiki.name"
   ]
  },
  {
   "cell_type": "code",
   "execution_count": 11,
   "id": "c45fde54",
   "metadata": {},
   "outputs": [
    {
     "data": {
      "text/plain": [
       "'Page: Attention Is All You Need\\nSummary: \"Attention Is All You Need\" is a 2017 landmark research paper in machine learning authored by eight scientists working at Google. The paper introduced a new deep learning architecture known as the transformer, based on the attention mechanism proposed in 2014 by Bahdanau et al. It is considered a foundational paper in modern artificial intelligence, as the transformer approach has become the main architecture of a wide variety of AI, such as large languag'"
      ]
     },
     "execution_count": 11,
     "metadata": {},
     "output_type": "execute_result"
    }
   ],
   "source": [
    "wiki.invoke('what is attention is all you need?')"
   ]
  },
  {
   "cell_type": "code",
   "execution_count": 12,
   "id": "03010060",
   "metadata": {},
   "outputs": [],
   "source": [
    "from dotenv import load_dotenv\n",
    "load_dotenv()\n",
    "\n",
    "import os\n",
    "os.environ[\"TAVILY_API_KEY\"] = os.getenv(\"TAVILY_API_KEY\")\n",
    "os.environ[\"GROQ_API_KEY\"] = os.getenv(\"GROQ_API_KEY\")"
   ]
  },
  {
   "cell_type": "code",
   "execution_count": 13,
   "id": "6dbb04ba",
   "metadata": {},
   "outputs": [
    {
     "name": "stderr",
     "output_type": "stream",
     "text": [
      "C:\\Users\\princ\\AppData\\Local\\Temp\\ipykernel_8680\\735679136.py:3: LangChainDeprecationWarning: The class `TavilySearchResults` was deprecated in LangChain 0.3.25 and will be removed in 1.0. An updated version of the class exists in the :class:`~langchain-tavily package and should be used instead. To use it run `pip install -U :class:`~langchain-tavily` and import as `from :class:`~langchain_tavily import TavilySearch``.\n",
      "  tavily = TavilySearchResults()\n"
     ]
    }
   ],
   "source": [
    "from langchain_community.tools.tavily_search import TavilySearchResults\n",
    "\n",
    "tavily = TavilySearchResults()"
   ]
  },
  {
   "cell_type": "code",
   "execution_count": 14,
   "id": "9c6cdeb1",
   "metadata": {},
   "outputs": [
    {
     "data": {
      "text/plain": [
       "[{'title': 'Artificial intelligence - NBC News',\n",
       "  'url': 'https://www.nbcnews.com/artificial-intelligence',\n",
       "  'content': \"Profile\\n\\nSections\\n\\nLocal\\n\\ntv\\n\\nFeatured\\n\\nMore From NBC\\n\\nFollow NBC News\\n\\nnews Alerts\\n\\nThere are no new alerts at this time\\n\\n# ARTIFICIAL INTELLIGENCE\\n\\nThe latest news and top stories on artificial intelligence, including ChatGPT, AI Chatbot and Bard.\\n\\nImage: Jerome Powell and Sam Altman Speak At Federal Reserve's Regulatory Capital Framework Conference\\n\\n## OpenAI announces new 'study mode' product for students\\n\\nHuman hands pointing at vintage computers [...] ### VERB A.I. pays some users $50 a month to access data\\n\\n## NBC News NOW\\n\\n## 01:21\\n\\n### Trump announces AI action plan during summit\\n\\n## 03:07\\n\\n### Roblox rolls out new AI-powered safety measures to protect teens\\n\\n## NBC News NOW\\n\\n## 03:13\\n\\n### Couple uses artificial intelligence to fight insurance denial\\n\\n## Nightly News\\n\\n## 09:51\\n\\n### Trump ‘touting’ business provisions of domestic agenda bill during AI and energy summit\\n\\n## Meet the Press\\n\\n## 04:15 [...] ### Bible.ai claims to help users better understand their faith\\n\\n## NBC News NOW\\n\\n## 03:59\\n\\n### Stacey Abrams on her new book and the ethical questions of AI\\n\\n## NBC News NOW\\n\\n## 03:14\\n\\n### Investigation underway after AI Marco Rubio impostor contacts top officials\\n\\n## NBC News NOW\\n\\n## 02:18\\n\\n### Harvard researchers study how to communicate with whales\\n\\n## Nightly News\\n\\n## MORE AI NEWS\\n\\n## Musk leans into raunchy Grok 'companions,' teasing new '50 Shades' inspired bot\\n\\nElon Musk\\nElon Musk\",\n",
       "  'score': 0.69746524},\n",
       " {'title': 'The latest AI news we announced in June - Google Blog',\n",
       "  'url': 'https://blog.google/technology/ai/google-ai-updates-june-2025/',\n",
       "  'content': \"# The latest AI news we announced in June\\n\\nJul 02, 2025\\n\\nHere’s a recap of some of our biggest AI updates from June, including more ways to search with AI Mode, a new way to share your NotebookLM notebooks publicly, and a new AI to help researchers better understand the human genome.\\n\\nSuperG\\n\\n## Basic explainer [...] Google made some cool AI updates in June. They made their AI models faster and cheaper for people to use. You can now use your voice to search with AI and find photos easier. Also, AI can now help students learn and scientists understand the human body better. [...] Search finds new voice, and photos bright,  \\nWhile Chromebooks gain AI's keenest edge,  \\nAnd learning's path is filled with light.\\n\\nGenomes unlock, from knowledge pledge,  \\nAnd robots learn, with vision clear,  \\nWhile cancer's foe meets AI's siege.\\n\\nFrom Google's labs, new AI doth spring,  \\nWith Gemini's models taking flight,  \\nAnd tools for coders, joy to bring.\\n\\nSearch finds new voice, and photos bright,  \\nWhile Chromebooks gain AI's keenest edge,  \\nAnd learning's path is filled with light.\",\n",
       "  'score': 0.6701125},\n",
       " {'title': 'Artificial Intelligence: Read latest news updates on AI technology',\n",
       "  'url': 'https://indianexpress.com/section/technology/artificial-intelligence/',\n",
       "  'content': 'President Donald Trump speaks during a reception for Republican lawmakers at the White House in Washington on Tuesday, July 22, 2025.\\n\\n## The chatbot culture wars are here\\n\\nRepublicans have been complaining about AI bias since at least early last year, when a version of Google’s Gemini AI system generated historically inaccurate images of the American Founding Fathers.\\n\\nGoogle Search continues to be the dominant source of referral traffic. [...] Researchers say they collected from the online game \"Real or Not Quiz\", where participants were asked to distinguish AI-generated images from real ones.\\n\\nOla founder Bhavesh Aggarwal at Sankalp 2024 held in Bengaluru on August 15.\\n\\n## Krutrim layoffs continue as Ola-backed AI startup looks to build ‘leaner’ teams\\n\\nEarlier this year, Krutrim released a handful of new ‘open-source’ AI models to boost India’s presence in the AI race currently dominated by the US and China. [...] Meta launched the Superintelligence Lab recently to consolidate work on its Llama models and long-term artificial general intelligence ambitions. (Image: Reuters)\\n\\n## Meta’s year of bold ‘superintelligence’ bets unlikely to pump profits\\n\\nMeta launched a Superintelligence Lab last month that will work in parallel to Meta AI.\\n\\nTariff breakthrough: US and EU reach framework for trade deal, Trump announces\\n\\n## With AI plan, Trump keeps chipping away at a foundational environmental law',\n",
       "  'score': 0.65966886},\n",
       " {'title': 'The 2025 AI Index Report | Stanford HAI',\n",
       "  'url': 'https://hai.stanford.edu/ai-index/2025-ai-index-report',\n",
       "  'content': '### 2. AI is increasingly embedded in everyday life.\\n\\nFrom healthcare to transportation, AI is rapidly moving from the lab to daily life. In 2023, the FDA approved 223 AI-enabled medical devices, up from just six in 2015. On the roads, self-driving cars are no longer experimental: Waymo, one of the largest U.S. operators, provides over 150,000 autonomous rides each week, while Baidu’s affordable Apollo Go robotaxi fleet now serves numerous cities across China. [...] In 2024, U.S. federal agencies introduced 59 AI-related regulations—more than double the number in 2023—and issued by twice as many agencies. Globally, legislative mentions of AI rose 21.3% across 75 countries since 2023, marking a ninefold increase since 2016. Alongside growing attention, governments are investing at scale: Canada pledged $2.4 billion, China launched a $47.5 billion semiconductor fund, France committed €109 billion, India pledged $1.25 billion, and Saudi Arabia’s Project [...] Artificial Intelligence has leapt to the forefront of global discourse, garnering increased attention from practitioners, industry leaders, policymakers, and the general public. The diversity of opinions and debates gathered from news articles this year illustrates just how broadly AI is being investigated, studied, and applied. However, the field of AI is still evolving rapidly and even experts have a hard time understanding and tracking progress across the field.',\n",
       "  'score': 0.5911811},\n",
       " {'title': '2024: A year of extraordinary progress and advancement in AI',\n",
       "  'url': 'https://blog.google/technology/ai/2024-ai-extraordinary-progress-advancement/',\n",
       "  'content': 'As we move into 2025, we wanted to take a moment to recognize the astonishing progress of the last year. From new Gemini models built for the agentic era and empowering creativity, to an AI system that designs novel, high-strength protein binders, AI–enabled neuroscience and even landmark advances in quantum computing, we’ve been boldly and responsibly advancing the frontiers of artificial intelligence and all the ways it can benefit humanity. [...] In December 2024, we released the first models in our Gemini 2.0 experimental series — AI models designed for the agentic era. First out of the gate was Gemini 2.0 Flash, our workhorse model, followed by prototypes from the frontiers of our agentic research including: an updated Project Astra, which explores the capabilities of a universal AI assistant; Project Mariner, an early prototype capable of taking actions in Chrome as an experimental extension; and Jules, an AI-powered code agent. [...] In January, we introduced AlphaGeometry, an AI system engineered to solve complex geometry problems. Our updated version, AlphaGeometry 2, and AlphaProof, a reinforcement-learning-based system for formal math reasoning, achieved the same level as a silver medalist in July 2024’s International Mathematical Olympiad.',\n",
       "  'score': 0.53648347}]"
      ]
     },
     "execution_count": 14,
     "metadata": {},
     "output_type": "execute_result"
    }
   ],
   "source": [
    "tavily.invoke(\"Provide me the latest news of Artificial Intelligence\")"
   ]
  },
  {
   "cell_type": "code",
   "execution_count": 15,
   "id": "2458242a",
   "metadata": {},
   "outputs": [],
   "source": [
    "##n combine all the tools\n",
    "\n",
    "tools = [arxiv, wiki, tavily]"
   ]
  },
  {
   "cell_type": "code",
   "execution_count": 16,
   "id": "342a02cf",
   "metadata": {},
   "outputs": [],
   "source": [
    "## Initalize llm model\n",
    "\n",
    "from langchain_groq import ChatGroq\n",
    "llm = ChatGroq(model = \"qwen/qwen3-32b\")\n",
    "\n",
    "llm_with_tools = llm.bind_tools(tools)"
   ]
  },
  {
   "cell_type": "code",
   "execution_count": 17,
   "id": "875f9735",
   "metadata": {},
   "outputs": [
    {
     "data": {
      "text/plain": [
       "AIMessage(content='', additional_kwargs={'reasoning_content': 'Okay, the user is asking for recent AI news. Let me think about how to approach this.\\n\\nFirst, I need to figure out which tool to use. The available tools are arxiv, wikipedia, and tavily_search_results_json. \\n\\nArxiv is good for academic papers, but the user is asking for news, not research papers. Wikipedia might have some information, but it\\'s more of a general knowledge encyclopedia and might not have the latest news. Tavily_search_results_json sounds like a search tool that can fetch recent news articles. \\n\\nSo, I should use the tavily_search_results_json function with the query \"recent AI News\". That should retrieve the latest news articles on AI. I\\'ll make sure the query is clear and specific enough. Let me check the parameters again. The function requires a \"query\" parameter, which I\\'ll set to \"recent AI News\". \\n\\nI think that\\'s the right choice. Let me structure the tool call accordingly.\\n', 'tool_calls': [{'id': 'fwmyz4s4y', 'function': {'arguments': '{\"query\":\"recent AI News\"}', 'name': 'tavily_search_results_json'}, 'type': 'function'}]}, response_metadata={'token_usage': {'completion_tokens': 226, 'prompt_tokens': 266, 'total_tokens': 492, 'completion_time': 0.503063705, 'prompt_time': 0.120290431, 'queue_time': 17.47813042, 'total_time': 0.623354136}, 'model_name': 'qwen/qwen3-32b', 'system_fingerprint': 'fp_f17c2eb555', 'service_tier': 'on_demand', 'finish_reason': 'tool_calls', 'logprobs': None}, id='run--4482ff96-da04-4493-9062-3614a6c2a0a5-0', tool_calls=[{'name': 'tavily_search_results_json', 'args': {'query': 'recent AI News'}, 'id': 'fwmyz4s4y', 'type': 'tool_call'}], usage_metadata={'input_tokens': 266, 'output_tokens': 226, 'total_tokens': 492})"
      ]
     },
     "execution_count": 17,
     "metadata": {},
     "output_type": "execute_result"
    }
   ],
   "source": [
    "from pprint import pprint\n",
    "from langchain_core.messages import AIMessage, HumanMessage\n",
    "llm_with_tools.invoke([HumanMessage(content=f\"What is the recent AI News\")])"
   ]
  },
  {
   "cell_type": "code",
   "execution_count": 18,
   "id": "ccd55aa1",
   "metadata": {},
   "outputs": [
    {
     "data": {
      "text/plain": [
       "[{'name': 'tavily_search_results_json',\n",
       "  'args': {'query': 'recent AI news'},\n",
       "  'id': 'v7rft0ayr',\n",
       "  'type': 'tool_call'}]"
      ]
     },
     "execution_count": 18,
     "metadata": {},
     "output_type": "execute_result"
    }
   ],
   "source": [
    "llm_with_tools.invoke([HumanMessage(content=f\"What is the recent AI News\")]).tool_calls"
   ]
  },
  {
   "cell_type": "code",
   "execution_count": 19,
   "id": "97cb0123",
   "metadata": {},
   "outputs": [],
   "source": [
    "## Entire chatbot with langgraph\n",
    "from langgraph.graph import StateGraph, START, END\n",
    "from typing import TypedDict, Annotated\n",
    "from langgraph.prebuilt import ToolNode, tools_condition\n",
    "from langgraph.graph.message import add_messages, AnyMessage"
   ]
  },
  {
   "cell_type": "code",
   "execution_count": 20,
   "id": "bd615ae1",
   "metadata": {},
   "outputs": [],
   "source": [
    "class LLMState(TypedDict):\n",
    "    messages : Annotated[list[AnyMessage],add_messages]"
   ]
  },
  {
   "cell_type": "code",
   "execution_count": 21,
   "id": "8c58063f",
   "metadata": {},
   "outputs": [],
   "source": [
    "def tool_calling_llm(state: LLMState):\n",
    "    return {\"messages\":[llm_with_tools.invoke(state[\"messages\"])]}\n"
   ]
  },
  {
   "cell_type": "code",
   "execution_count": 22,
   "id": "6c2cfa12",
   "metadata": {},
   "outputs": [],
   "source": [
    "graph = StateGraph(LLMState)\n",
    "graph.add_node(\"tool_calling_llm\",tool_calling_llm)\n",
    "graph.add_node(\"tools\", ToolNode(tools))\n",
    "\n",
    "graph.add_edge(START, \"tool_calling_llm\")\n",
    "graph.add_conditional_edges(\"tool_calling_llm\",tools_condition)\n",
    "graph.add_edge(\"tools\",END)\n",
    "\n",
    "workflow = graph.compile()"
   ]
  },
  {
   "cell_type": "code",
   "execution_count": 23,
   "id": "e37f8768",
   "metadata": {},
   "outputs": [
    {
     "data": {
      "image/png": "[encoded data removed]",
      "text/plain": [
       "<langgraph.graph.state.CompiledStateGraph object at 0x000002133D0FA120>"
      ]
     },
     "execution_count": 23,
     "metadata": {},
     "output_type": "execute_result"
    }
   ],
   "source": [
    "workflow"
   ]
  },
  {
   "cell_type": "code",
   "execution_count": 28,
   "id": "f231d750",
   "metadata": {},
   "outputs": [
    {
     "name": "stdout",
     "output_type": "stream",
     "text": [
      "================================\u001b[1m Human Message \u001b[0m=================================\n",
      "\n",
      "Recently prime minister visited to which country?\n",
      "==================================\u001b[1m Ai Message \u001b[0m==================================\n",
      "Tool Calls:\n",
      "  tavily_search_results_json (bmq8t9ex7)\n",
      " Call ID: bmq8t9ex7\n",
      "  Args:\n",
      "    query: recent prime minister visit country\n",
      "=================================\u001b[1m Tool Message \u001b[0m=================================\n",
      "Name: tavily_search_results_json\n",
      "\n",
      "[{\"title\": \"PM's Visits | Prime Minister of India\", \"url\": \"https://www.pmindia.gov.in/en/pm-visits/\", \"content\": \"### PM’s visit to Mauritius(Mar 11, 2025 - Mar 12, 2025 )\\n\\n### PM’s visit to France & USA(Feb 10, 2025 - Feb 14, 2025 )\\n\\n### PM’s visit to Kuwait(Dec 21, 2024 - Dec 22, 2024 )\\n\\n### PM’s visit to Nigeria, Brazil & Guyana(Nov 16, 2024 - Nov 22, 2024 )\\n\\n### PM’s visit to Russia(Oct 22, 2024 - Oct 23, 2024 )\\n\\n## OUR Government\\n\\nThe President of India\\n\\n##### The President of India\\n\\nRajya Sabha\\n\\n##### Rajya Sabha\\n\\nLok Sabha\\n\\n##### Lok Sabha\\n\\nThe Cabinet Secretariat\\n\\n##### The Cabinet Secretariat [...] PMO twitter\\nPMO facebook\\nPMO Youtube\\nPMO narendramodi\\n\\n# PMINDIAPMINDIA\\n\\nPMINDIA\\n\\n#### PM’s Visits\\n\\n### PM’s visit to United Kingdom & Maldives(Jul 23, 2025 - Jul 26, 2025 )\\n\\n### PM’s visit to Ghana, Trinidad & Tobago, Argentina, Brazil and Namibia(Jul 02, 2025 - Jul 09, 2025 )\\n\\n### PM’s visit to Cyprus, Canada and Croatia(Jun 15, 2025 - Jun 19, 2025 )\\n\\n### PM’s visit to Saudi Arabia(Apr 22, 2025 - Apr 22, 2025 )\\n\\n### PM’s visit to Thailand & Sri Lanka(Apr 03, 2025 - Apr 06, 2025 ) [...] MyGov\\n\\n##### MyGov\\n\\nGOI Web Directory\\n\\n##### GOI Web Directory\\n\\nPress Information Bureau\\n\\n##### Press Information Bureau\\n\\nNational Portal of INDIA\\n\\n##### National Portal of INDIA\\n\\ncertificate_for_prime_minister-of-india-website\", \"score\": 0.75377536}, {\"title\": \"PM Modi UK, Maldives Visit LIVE - NDTV\", \"url\": \"https://www.ndtv.com/world-news/pm-modi-uk-maldives-visit-live-updates-narendra-modi-india-uk-free-trade-deal-meet-british-pm-keir-starmer-king-charles-khalistani-threat-mohamed-muiz-8930160\", \"content\": \"PM Narendra Modi UK and Maldives Visit LIVE Updates: Prime Minister Narendra Modi landed in Male on Friday for a two-day Maldives visit.\", \"score\": 0.67321366}, {\"title\": \"List of international prime ministerial trips made by Narendra Modi\", \"url\": \"https://en.wikipedia.org/wiki/List_of_international_prime_ministerial_trips_made_by_Narendra_Modi\", \"content\": \"Summary of international trips ; 3 visits (7), Bhutan, Indonesia, Maldives, Saudi Arabia, South Africa, Thailand, Uzbekistan ; 4 visits (3), Brazil, Sri Lanka,\", \"score\": 0.64236575}, {\"title\": \"MEA | Prime Minister Visits - Ministry of External Affairs\", \"url\": \"https://www.mea.gov.in/visits.htm\", \"content\": \"Ministry of External Affairs, Government of India\\n\\n# Visits\\n\\n## Outgoing Visits\\n\\nJuly 20, 2025\\n\\nJuly 13, 2025\\n\\nJuly 01, 2025\\n\\nJune 27, 2025\\n\\nJune 14, 2025\\n\\nJune 08, 2025\\n\\nMay 18, 2025\\n\\nApril 25, 2025\\n\\nApril 19, 2025\\n\\nApril 02, 2025 [...] Copyright © 2024 Ministry of External Affairs, Government of India. All Rights Reserved.\\n\\nWebsite content managed by XPD Division, Ministry of External Affairs;   \\nDesigned & developed by M/s Silver Touch Technologies Limited; Hosted by National Informatics Centre.\\n\\nVisitors: 223732874\\nPage last updated on: 20/7/2025\\n\\nWorking hours at Headquarters 9:00 A.M. To 5:30 P.M. [...] My GOV : External website that opens in a new window\\n The National Portal of India : External website that opens in a new window\\nConsular Grievances Monitoring System : External website that opens in a new window\\nICCR : External website that opens in a new window\\nEmigrant : External website that opens in a new window\\nPortal for Public Grievances : External website that opens in a new window\\n Prabhass : External website that opens in a new window\\nAndroid App Download\\niOS App Download\", \"score\": 0.58237284}, {\"title\": \"News Updates | Prime Minister of India\", \"url\": \"https://www.pmindia.gov.in/en/news-updates/\", \"content\": \"The Chief Minister of Rajasthan, Shri Bhajanlal Sharma met the Prime Minister, Shri Narendra Modi in New Delhi today.\\n\\nHimachal Pradesh Governor meets PM\\n\\n### Himachal Pradesh Governor meets PM\\n\\nThe Governor of Himachal Pradesh, Shri Shiv Pratap Shukla, met Prime Minister Shri Narendra Modi in New Delhi today.\\n\\nPM condoles the loss of lives in the road accident in Deoghar, Jharkhand\\n\\n### PM condoles the loss of lives in the road accident in Deoghar, Jharkhand [...] PMO twitter\\nPMO facebook\\nPMO Youtube\\nPMO narendramodi\\n\\n# PMINDIAPMINDIA\\n\\nPMINDIA\\n\\n### News Updates\\n\\nPM India\\n\\nPM India\\nHaryana Governor meets PM\\n\\n### Haryana Governor meets PM\\n\\nThe Governor of Haryana, Prof. Ashim Kumar Ghosh, met Prime Minister Shri Narendra Modi in New Delhi today.\\n\\nPM welcomes return of Sacred Piprahwa Relics after 127 years\\n\\n### PM welcomes return of Sacred Piprahwa Relics after 127 years [...] Prime Minister Shri Narendra Modi today hailed the return of the sacred Piprahwa relics of Bhagwan Buddha to India after 127 long years, calling it a proud and joyous moment for the nation’s rich cultural heritage.\\n\\nPM shares an article on PRS 2024, a Transformative Blueprint for Skill-Linked, Inclusive Education\\n\\n### PM shares an article on PRS 2024, a Transformative Blueprint for Skill-Linked, Inclusive Education\", \"score\": 0.4187688}]\n"
     ]
    }
   ],
   "source": [
    "initial_state = {\"messages\": [HumanMessage(content=\"Recently prime minister visited to which country?\")]}\n",
    "messages = workflow.invoke(initial_state)\n",
    "for m in messages['messages']:\n",
    "    m.pretty_print()"
   ]
  },
  {
   "cell_type": "code",
   "execution_count": null,
   "id": "67e51dc7",
   "metadata": {},
   "outputs": [],
   "source": []
  }
 ],
 "metadata": {
  "kernelspec": {
   "display_name": "Python 3",
   "language": "python",
   "name": "python3"
  },
  "language_info": {
   "codemirror_mode": {
    "name": "ipython",
    "version": 3
   },
   "file_extension": ".py",
   "mimetype": "text/x-python",
   "name": "python",
   "nbconvert_exporter": "python",
   "pygments_lexer": "ipython3",
   "version": "3.12.0"
  }
 },
 "nbformat": 4,
 "nbformat_minor": 5
}

{
 "cells": [
  {
   "cell_type": "markdown",
   "id": "d4903e29",
   "metadata": {},
   "source": [
    "## Implementing Simple chatbot using Langgraph"
   ]
  },
  {
   "cell_type": "code",
   "execution_count": 13,
   "id": "e5490044",
   "metadata": {},
   "outputs": [],
   "source": [
    "from typing_extensions import TypedDict\n",
    "from langgraph.graph import StateGraph, START, END\n"
   ]
  },
  {
   "cell_type": "code",
   "execution_count": 14,
   "id": "b1b6f4a6",
   "metadata": {},
   "outputs": [],
   "source": [
    "## Reducers \n",
    "from typing import Annotated\n",
    "from langgraph.graph.message import add_messages\n",
    "\n",
    "##add_messages - > merges two lists of messages, updating existing messages by ID"
   ]
  },
  {
   "cell_type": "code",
   "execution_count": 15,
   "id": "97c0309e",
   "metadata": {},
   "outputs": [],
   "source": [
    "class State(TypedDict):\n",
    "    messages : Annotated[list, add_messages]  ##add_messages append the message in the list not overrride"
   ]
  },
  {
   "cell_type": "code",
   "execution_count": 16,
   "id": "27d14931",
   "metadata": {},
   "outputs": [],
   "source": [
    "import os\n",
    "from dotenv import load_dotenv\n",
    "load_dotenv()\n",
    "\n",
    "os.environ[\"GOOGLE_API_KEY\"] = os.getenv(\"GOOGLE_API_KEY\")\n",
    "os.environ[\"GROQ_API_KEY\"] = os.getenv(\"GROQ_API_KEY\")"
   ]
  },
  {
   "cell_type": "code",
   "execution_count": 17,
   "id": "2a96166d",
   "metadata": {},
   "outputs": [],
   "source": [
    "from langchain_google_genai import ChatGoogleGenerativeAI\n",
    "llm = ChatGoogleGenerativeAI(model=\"gemini-1.5-flash\")"
   ]
  },
  {
   "cell_type": "code",
   "execution_count": 18,
   "id": "6a0bc978",
   "metadata": {},
   "outputs": [
    {
     "data": {
      "text/plain": [
       "AIMessage(content=\"<think>\\nOkay, the user greeted me with a friendly Hello how are you? I should respond in a warm and approachable way. Since I'm an AI and don't experience emotions, I need to be honest while still being engaging. I'll acknowledge their greeting, express that I'm functioning well, and show genuine interest in how they're doing. Keeping the tone conversational and inviting is key here. I want to make sure they feel comfortable to share more if they'd like. Let's keep it light and friendly.\\n</think>\\n\\nHi there! (•̀ᴗ•́)و Thank you for checking in! I'm functioning at optimal levels and ready to chat or help with whatever you'd like. How have you been lately? I'd love to hear how your day is going! 🌟\", additional_kwargs={}, response_metadata={'token_usage': {'completion_tokens': 164, 'prompt_tokens': 13, 'total_tokens': 177, 'completion_time': 0.398732869, 'prompt_time': 0.000305385, 'queue_time': 0.050304985, 'total_time': 0.399038254}, 'model_name': 'qwen/qwen3-32b', 'system_fingerprint': 'fp_f17c2eb555', 'service_tier': 'on_demand', 'finish_reason': 'stop', 'logprobs': None}, id='run--e4c23537-01ca-4f2d-8806-dfae3d1ec64f-0', usage_metadata={'input_tokens': 13, 'output_tokens': 164, 'total_tokens': 177})"
      ]
     },
     "execution_count": 18,
     "metadata": {},
     "output_type": "execute_result"
    }
   ],
   "source": [
    "from langchain_groq import ChatGroq\n",
    "llm_groq = ChatGroq(model=\"qwen/qwen3-32b\")\n",
    "llm_groq.invoke(\"Hello how are you?\")"
   ]
  },
  {
   "cell_type": "code",
   "execution_count": 19,
   "id": "42caad60",
   "metadata": {},
   "outputs": [],
   "source": [
    "def superbot(state: State):\n",
    "    return {\"messages\": [llm_groq.invoke(state['messages'])]}"
   ]
  },
  {
   "cell_type": "code",
   "execution_count": 20,
   "id": "13124454",
   "metadata": {},
   "outputs": [
    {
     "data": {
      "image/png": "[encoded data removed]",
      "text/plain": [
       "<IPython.core.display.Image object>"
      ]
     },
     "metadata": {},
     "output_type": "display_data"
    }
   ],
   "source": [
    "graph = StateGraph(State)\n",
    "\n",
    "#Node\n",
    "graph.add_node(\"SuperBot\",superbot)\n",
    "\n",
    "#Edge\n",
    "graph.add_edge(START,\"SuperBot\")\n",
    "graph.add_edge(\"SuperBot\",END)\n",
    "\n",
    "graph_builder = graph.compile()\n",
    "\n",
    "## Display\n",
    "from IPython.display import Image, display\n",
    "display(Image(graph_builder.get_graph().draw_mermaid_png()))"
   ]
  },
  {
   "cell_type": "code",
   "execution_count": 21,
   "id": "2467dbe0",
   "metadata": {},
   "outputs": [
    {
     "data": {
      "text/plain": [
       "{'messages': [HumanMessage(content='Hi, My name is Krish and I like to Play Volleyball and Cricket.', additional_kwargs={}, response_metadata={}, id='73d35953-9bb7-4284-82ab-817cdd98e2ec'),\n",
       "  AIMessage(content=\"<think>\\nOkay, the user introduced themselves as Krish and mentioned they like playing volleyball and cricket. I need to respond appropriately. Let me start by acknowledging their introduction.\\n\\nI should ask more about their interests to keep the conversation going. Maybe ask which sport they prefer and why. Also, find out if they play competitively or for fun. Adding a friendly question about their favorite part of the sports could help. Need to keep it open-ended and engaging. Make sure the tone is friendly and supportive. Let me check if there's anything else I should include. Oh, maybe ask if they have any memorable experiences in either sport. Yeah, that could work. Alright, time to put it all together in a natural way.\\n</think>\\n\\nHi Krish! Nice to meet you! 🌟 Volleyball and cricket are both amazing sports—do you have a favorite between the two, or do you enjoy them for different reasons? I’d love to hear more about what you like most about playing them. Also, do you play these sports with friends, on a team, or just for fun? Any exciting matches or moments you’d like to share? 🏐🏏\", additional_kwargs={}, response_metadata={'token_usage': {'completion_tokens': 235, 'prompt_tokens': 24, 'total_tokens': 259, 'completion_time': 0.587105098, 'prompt_time': 0.00069445, 'queue_time': 0.05120694, 'total_time': 0.587799548}, 'model_name': 'qwen/qwen3-32b', 'system_fingerprint': 'fp_f17c2eb555', 'service_tier': 'on_demand', 'finish_reason': 'stop', 'logprobs': None}, id='run--f4795b8e-3b76-402c-afa6-1389f42f2654-0', usage_metadata={'input_tokens': 24, 'output_tokens': 235, 'total_tokens': 259})]}"
      ]
     },
     "execution_count": 21,
     "metadata": {},
     "output_type": "execute_result"
    }
   ],
   "source": [
    "## Invocation\n",
    "\n",
    "graph_builder.invoke({'messages':\"Hi, My name is Krish and I like to Play Volleyball and Cricket.\"})\n"
   ]
  },
  {
   "cell_type": "markdown",
   "id": "7137b58a",
   "metadata": {},
   "source": [
    "# Streaming the responses"
   ]
  },
  {
   "cell_type": "code",
   "execution_count": 25,
   "id": "0369e50e",
   "metadata": {},
   "outputs": [
    {
     "name": "stdout",
     "output_type": "stream",
     "text": [
      "{'messages': [HumanMessage(content='Hello, My name is Fake', additional_kwargs={}, response_metadata={}, id='1aaf4d8a-3b29-4cfa-9e7e-dd899413391c')]}\n",
      "{'messages': [HumanMessage(content='Hello, My name is Fake', additional_kwargs={}, response_metadata={}, id='1aaf4d8a-3b29-4cfa-9e7e-dd899413391c'), AIMessage(content=\"<think>\\nOkay, the user said, Hello, My name is Fake. First, I need to understand how to respond. Since the user provided their name as Fake, I should acknowledge it while keeping a friendly and professional tone. I can start by greeting them and using their provided name. Next, I should ask how I can assist them today to show I'm ready to help and encourage them to state their needs. At the same time, I should maintain a natural and conversational style, avoiding overly formal language. Also, I need to ensure the response is concise and not too long. Let me check for any possible issues. Using 'Fake' as the name might be a username or a test, so there's no need to question it. Just respond politely and proceed with the conversation. Alright, that should cover it.\\n</think>\\n\\nHello, Fake! 😊 How can I assist you today? Feel free to ask me anything—I'm here to help!\", additional_kwargs={}, response_metadata={'token_usage': {'completion_tokens': 195, 'prompt_tokens': 14, 'total_tokens': 209, 'completion_time': 0.436349738, 'prompt_time': 0.0004608, 'queue_time': 0.05008804, 'total_time': 0.436810538}, 'model_name': 'qwen/qwen3-32b', 'system_fingerprint': 'fp_f17c2eb555', 'service_tier': 'on_demand', 'finish_reason': 'stop', 'logprobs': None}, id='run--594ce0a4-34c0-4a66-9910-d531a715c8e6-0', usage_metadata={'input_tokens': 14, 'output_tokens': 195, 'total_tokens': 209})]}\n"
     ]
    }
   ],
   "source": [
    "for event in graph_builder.stream({\"messages\": \"Hello, My name is Fake\"}, stream_mode = \"values\"):\n",
    "    print(event)"
   ]
  },
  {
   "cell_type": "code",
   "execution_count": null,
   "id": "3480fa1d",
   "metadata": {},
   "outputs": [],
   "source": []
  }
 ],
 "metadata": {
  "kernelspec": {
   "display_name": "Python 3",
   "language": "python",
   "name": "python3"
  },
  "language_info": {
   "codemirror_mode": {
    "name": "ipython",
    "version": 3
   },
   "file_extension": ".py",
   "mimetype": "text/x-python",
   "name": "python",
   "nbconvert_exporter": "python",
   "pygments_lexer": "ipython3",
   "version": "3.12.0"
  }
 },
 "nbformat": 4,
 "nbformat_minor": 5
}

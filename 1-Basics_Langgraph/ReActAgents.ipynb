{
 "cells": [
  {
   "cell_type": "code",
   "execution_count": 1,
   "id": "a6a8c55c",
   "metadata": {},
   "outputs": [],
   "source": [
    "from langchain_community.tools import ArxivQueryRun, WikipediaQueryRun\n",
    "from langchain_community.utilities import WikipediaAPIWrapper, ArxivAPIWrapper"
   ]
  },
  {
   "cell_type": "code",
   "execution_count": 2,
   "id": "a30bce4f",
   "metadata": {},
   "outputs": [
    {
     "name": "stdout",
     "output_type": "stream",
     "text": [
      "arxiv\n"
     ]
    }
   ],
   "source": [
    "api_wrapper_arxiv = ArxivAPIWrapper(top_k_results = 2,doc_content_chars_max = 500)\n",
    "arxiv = ArxivQueryRun(api_wrapper=api_wrapper_arxiv)\n",
    "print((arxiv.name))"
   ]
  },
  {
   "cell_type": "code",
   "execution_count": 3,
   "id": "f36dcb56",
   "metadata": {},
   "outputs": [
    {
     "data": {
      "text/plain": [
       "'Published: 2017-09-19\\nTitle: Exploring Human-like Attention Supervision in Visual Question Answering\\nAuthors: Tingting Qiao, Jianfeng Dong, Duanqing Xu\\nSummary: Attention mechanisms have been widely applied in the Visual Question\\nAnswering (VQA) task, as they help to focus on the area-of-interest of both\\nvisual and textual information. To answer the questions correctly, the model\\nneeds to selectively target different areas of an image, which suggests that an\\nattention-based model may benefit fro'"
      ]
     },
     "execution_count": 3,
     "metadata": {},
     "output_type": "execute_result"
    }
   ],
   "source": [
    "arxiv.invoke(\"Attention is all u need\")"
   ]
  },
  {
   "cell_type": "code",
   "execution_count": 4,
   "id": "c88dcdf7",
   "metadata": {},
   "outputs": [
    {
     "data": {
      "text/plain": [
       "'wikipedia'"
      ]
     },
     "execution_count": 4,
     "metadata": {},
     "output_type": "execute_result"
    }
   ],
   "source": [
    "api_wrapper_wiki = WikipediaAPIWrapper(top_k_results=1, doc_content_chars_max=500)\n",
    "wiki = WikipediaQueryRun(api_wrapper = api_wrapper_wiki)\n",
    "wiki.name"
   ]
  },
  {
   "cell_type": "code",
   "execution_count": 5,
   "id": "9f17c76c",
   "metadata": {},
   "outputs": [
    {
     "data": {
      "text/plain": [
       "'Page: Machine learning\\nSummary: Machine learning (ML) is a field of study in artificial intelligence concerned with the development and study of statistical algorithms that can learn from data and generalise to unseen data, and thus perform tasks without explicit instructions. Within a subdiscipline in machine learning, advances in the field of deep learning have allowed neural networks, a class of statistical algorithms, to surpass many previous machine learning approaches in performance.\\nML fi'"
      ]
     },
     "execution_count": 5,
     "metadata": {},
     "output_type": "execute_result"
    }
   ],
   "source": [
    "wiki.invoke('what is Machine Learning')"
   ]
  },
  {
   "cell_type": "code",
   "execution_count": 6,
   "id": "b2cd1a6d",
   "metadata": {},
   "outputs": [],
   "source": [
    "from dotenv import load_dotenv\n",
    "load_dotenv()\n",
    "\n",
    "import os\n",
    "\n",
    "os.environ[\"TAVILY_API_KEY\"] = os.getenv(\"TAVILY_API_KEY\")\n",
    "os.environ[\"GROQ_API_KEY\"] = os.getenv(\"GROQ_API_KEY\")\n",
    "os.environ[\"LANGCHAIN_API_KEY\"] = os.getenv(\"LANGCHAIN_API_KEY\")\n",
    "os.environ[\"LANGCHAIN_TRACING_V2\"] = \"true\"\n",
    "os.environ[\"LANGCHAIN_PROJECT\"] = \"ReAct-Agent\""
   ]
  },
  {
   "cell_type": "code",
   "execution_count": 7,
   "id": "db70179a",
   "metadata": {},
   "outputs": [],
   "source": [
    "# Custom Functions\n",
    "\n",
    "def multiply(a : int, b : int) -> int:\n",
    "    \"\"\"Multiply a and b.\n",
    "    \n",
    "    Args : \n",
    "        a: first int\n",
    "        b : second int\n",
    "        \n",
    "    \"\"\"\n",
    "    return a * b\n",
    "\n",
    "## This will be a tool\n",
    "def add(a: int, b: int) -> int:\n",
    "    \"\"\"\n",
    "    Adds a and b.\n",
    "    \n",
    "    Args:\n",
    "        a: first int\n",
    "        b: second int\n",
    "    \n",
    "    \"\"\"\n",
    "    \n",
    "    return a + b\n",
    "\n",
    "def divide(a: int, b: int) -> int:\n",
    "    \"\"\"\n",
    "    Divide a and b.\n",
    "    \n",
    "    Args:\n",
    "        a: first int\n",
    "        b: second int\n",
    "    \n",
    "    \"\"\"\n",
    "    return a / b\n",
    "\n"
   ]
  },
  {
   "cell_type": "code",
   "execution_count": 8,
   "id": "92a52f8a",
   "metadata": {},
   "outputs": [
    {
     "name": "stderr",
     "output_type": "stream",
     "text": [
      "C:\\Users\\princ\\AppData\\Local\\Temp\\ipykernel_16196\\735679136.py:3: LangChainDeprecationWarning: The class `TavilySearchResults` was deprecated in LangChain 0.3.25 and will be removed in 1.0. An updated version of the class exists in the :class:`~langchain-tavily package and should be used instead. To use it run `pip install -U :class:`~langchain-tavily` and import as `from :class:`~langchain_tavily import TavilySearch``.\n",
      "  tavily = TavilySearchResults()\n"
     ]
    }
   ],
   "source": [
    "from langchain_community.tools.tavily_search import TavilySearchResults\n",
    "\n",
    "tavily = TavilySearchResults()"
   ]
  },
  {
   "cell_type": "code",
   "execution_count": 9,
   "id": "bedf4ab3",
   "metadata": {},
   "outputs": [
    {
     "data": {
      "text/plain": [
       "[{'title': 'Artificial Intelligence News - ScienceDaily',\n",
       "  'url': 'https://www.sciencedaily.com/news/computers_math/artificial_intelligence/',\n",
       "  'content': \"ScienceDaily\\n\\n# Artificial Intelligence News\\n\\n## Top Headlines\\n\\n## Latest Headlines\\n\\n## Earlier Headlines\\n\\n### Tuesday, May 27, 2025\\n\\n### Thursday, May 22, 2025\\n\\n### Wednesday, May 21, 2025\\n\\n### Monday, May 19, 2025\\n\\n### Thursday, May 15, 2025\\n\\n### Wednesday, May 14, 2025\\n\\n### Tuesday, May 13, 2025\\n\\n### Monday, May 12, 2025\\n\\n### Thursday, May 8, 2025\\n\\n### Wednesday, May 7, 2025\\n\\n### Tuesday, May 6, 2025\\n\\n### Monday, May 5, 2025\\n\\n### Thursday, May 1, 2025\\n\\n### Wednesday, April 30, 2025 [...] ### Monday, April 28, 2025\\n\\n### Friday, April 25, 2025\\n\\n### Thursday, April 24, 2025\\n\\n### Wednesday, April 23, 2025\\n\\n### Tuesday, April 22, 2025\\n\\n### Monday, April 21, 2025\\n\\n### Wednesday, April 16, 2025\\n\\n### Tuesday, April 15, 2025\\n\\n### Monday, April 14, 2025\\n\\n### Thursday, April 10, 2025\\n\\n### Wednesday, April 9, 2025\\n\\n### Tuesday, April 8, 2025\\n\\n### Monday, April 7, 2025\\n\\n### Friday, April 4, 2025\\n\\n### Thursday, April 3, 2025\\n\\n### Wednesday, April 2, 2025\\n\\n### Monday, March 31, 2025 [...] ### Friday, March 28, 2025\\n\\n### Thursday, March 27, 2025\\n\\n### Wednesday, March 26, 2025\\n\\n### Tuesday, March 25, 2025\\n\\n### Thursday, March 20, 2025\\n\\n### Wednesday, March 19, 2025\\n\\n### Tuesday, March 18, 2025\\n\\n## Breaking\\n\\n## Trending Topics\\n\\n## Strange & Offbeat\\n\\nStay informed with ScienceDaily's free email newsletter, updated daily and weekly. Or view our many newsfeeds in your RSS reader:\\n\\nKeep up to date with the latest news from ScienceDaily via social networks:\",\n",
       "  'score': 0.7785319},\n",
       " {'title': 'Latest Development of Artificial Intelligence | InData Labs',\n",
       "  'url': 'https://indatalabs.com/blog/ai-latest-developments',\n",
       "  'content': '# Latest developments of artificial intelligence: 10 AI trends to follow\\n\\nLatest AI trends-s\\n\\nContent\\n\\nAI Strategy Consulting\\n\\nArtificial intelligence is one of the most impressive tech advancements of our times. The latest development of generative artificial intelligence has seen it applied across dozens of industries and sectors. From manufacturing and robotics to pharmaceuticals, supply chain management, and everyday AI software automation, it’s happening everywhere. [...] Here are some of the latest artificial intelligence developments that you should know about.\\n\\n### #1: Artificial intelligence trends in robotics\\n\\nMany robotics startups are now embracing AI to develop and automate new AI systems. Firms like Olis Robotics have been driving innovation through the use of plug-and-play controls fitted with AI-powered software. [...] Meta unveiled a range of new features, including AI stickers, Instagram editing tools, chatbots, celebrity avatars, and an AI studio. Meanwhile, Apple has harnessed the power of machine learning to enhance its photography capabilities, automatically identifying people or pets within the image and seamlessly transitioning to portrait mode.',\n",
       "  'score': 0.6609831},\n",
       " {'title': 'SEC Announces Creation of Task Force on Artificial Intelligence',\n",
       "  'url': 'https://www.goodwinlaw.com/en/insights/blogs/2025/08/sec-announces-creation-of-task-force-on-artificial-intelligence',\n",
       "  'content': 'On August 1, 2025, the Securities and Exchange Commission (SEC) announced the launch of a task force on artificial intelligence (AI) that will spearhead the agency’s efforts to enhance innovation and efficiency in its operations through the responsible use of AI. Valerie Szczepanik, who has been named the SEC’s Chief AI Officer, is leading the task force. Valerie Szczepanik was previously the Director of the SEC’s Strategic Hub for Innovation and Financial Technology. [...] The post SEC Announces Creation of Task Force on Artificial Intelligence appeared first on Public Company Advisory Blog.\\n\\n## Related Content\\n\\n### America’s AI Action Plan Emphasizes Governance and Risk Management to Promote the Secure and Safe Adoption of AI Tools\\n\\n### ISS Launches Annual Global Benchmark Policy Survey\\n\\n### SEC Asks Appeals Court to Rule on Climate Disclosure Rules\\n\\n### SEC Names Acting Chair of the PCAOB\\n\\n### COSO Withdraws Proposed Corporate Governance Framework [...] ### COSO Withdraws Proposed Corporate Governance Framework\\n\\n### SEC Staff Updates its Financial Reporting Manual\\n\\n### SEC Staff Publishes Revisions to S-K Item 103 Legal Proceedings C&DIs\\n\\n### SpringWorks Therapeutics Completes Acquisition by Merck KGaA, Darmstadt, Germany to Accelerate Sustainable Growth for $3.9 Billion\\n\\n### Goodwin Advises Color Wow in its Pending Acquisition by L’Oréal\\n\\n### The Legal 500 US 2025 Recognizes 44 Goodwin Practices and 172 Lawyers',\n",
       "  'score': 0.5035894},\n",
       " {'title': 'AI is leading to thousands of job losses, report finds - CBS News',\n",
       "  'url': 'https://www.cbsnews.com/news/ai-jobs-layoffs-us-2025/',\n",
       "  'content': 'Watch CBS News\\n\\n# AI is leading to thousands of job losses, report finds\\n\\nmoneywatch\\n\\nUpdated on: August 1, 2025 / 1:39 PM EDT\\n/ CBS News\\n\\nThe U.S. job market, already showing the strain from global trade tensions, is showing early signs of another critical issue facing workers today: artificial intelligence. [...] In July alone, rising adoption of generative AI technology by private employers accounted for more than 10,000 job cuts, according to a report released this week by Challenger, Gray & Christmas. The outplacement firm lists AI as one of the top five factors contributing to job losses in 2025. [...] The impact of AI on hiring is perhaps most visible among younger workers. Job listings for the kind of entry-level corporate roles traditionally available to recent college graduates have declined 15% over the past year, according to Handshake, a career platform geared toward Gen Z employees. Over the past two years, there has been a 400% increase in employers using \"AI\" in job descriptions, the firm found.',\n",
       "  'score': 0.42148095},\n",
       " {'title': 'Advancements in AI and Machine Learning',\n",
       "  'url': 'https://ep.jhu.edu/news/advancements-in-ai-and-machine-learning/',\n",
       "  'content': 'Today, AI has been seamlessly integrated into everyday life. Advances in ML, natural language processing (NLP), and computer vision have enabled AI to perform ever-more complex tasks such as diagnosing medical conditions, powering autonomous vehicles, and personalizing user experiences in digital platforms.\\n\\nAs AI’s evolution continues, we can expect it to further revolutionize the world through even greater efficiency and new avenues for technological development. [...] The field of generative AI has seen remarkable progress, particularly with the development of advanced Large Language Models (LLMs). Meta’s recent release of Llama 4 includes models like Scout and Maverick that are designed to handle politically and socially contentious questions more effectively than their predecessors. They demonstrate reduced political bias and can process diverse data types, including text, video, images, and audio. \\u200b [...] ### Real-World Applications of AI in Engineering\\n\\nAI  has revolutionized the entire field of engineering. Altair’s HyperWorks® platform uses geometric deep learning to deliver simulation results up to 1,000 times faster than previous methods. This allows engineers to focus on higher-value tasks without losing accuracy. \\u200b',\n",
       "  'score': 0.4017588}]"
      ]
     },
     "execution_count": 9,
     "metadata": {},
     "output_type": "execute_result"
    }
   ],
   "source": [
    "tavily.invoke(\"Provide me the latest news of Artificial Intelligence\")"
   ]
  },
  {
   "cell_type": "code",
   "execution_count": 10,
   "id": "393d71dd",
   "metadata": {},
   "outputs": [],
   "source": [
    "## Combine all the tools in the list\n",
    "tools = [arxiv, wiki, tavily, add, multiply, divide]"
   ]
  },
  {
   "cell_type": "code",
   "execution_count": 11,
   "id": "975365a9",
   "metadata": {},
   "outputs": [],
   "source": [
    "## Initilize my LLM Model\n",
    "\n",
    "from langchain_groq import ChatGroq\n",
    "llm = ChatGroq(model = \"qwen/qwen3-32b\")\n",
    "llm_with_tools = llm.bind_tools(tools)"
   ]
  },
  {
   "cell_type": "code",
   "execution_count": 12,
   "id": "88074d02",
   "metadata": {},
   "outputs": [
    {
     "data": {
      "text/plain": [
       "AIMessage(content='', additional_kwargs={'reasoning_content': 'Okay, the user is asking for recent AI news. Let me see which tool I can use here. The available tools are arxiv, wikipedia, tavily_search_results_json, and the math functions. Since they want recent news, arxiv might have the latest papers, but tavily_search_results_json seems like a search engine that could provide recent articles. Wikipedia might not be the best for the very latest news. So I\\'ll go with tavily_search_results_json. The query parameter should be \"recent AI news\". Let me structure the tool call accordingly.\\n', 'tool_calls': [{'id': '6zbdytbnt', 'function': {'arguments': '{\"query\":\"recent AI news\"}', 'name': 'tavily_search_results_json'}, 'type': 'function'}]}, response_metadata={'token_usage': {'completion_tokens': 143, 'prompt_tokens': 462, 'total_tokens': 605, 'completion_time': 0.481886712, 'prompt_time': 0.030358661, 'queue_time': 0.052980754000000005, 'total_time': 0.512245373}, 'model_name': 'qwen/qwen3-32b', 'system_fingerprint': 'fp_5cf921caa2', 'service_tier': 'on_demand', 'finish_reason': 'tool_calls', 'logprobs': None}, id='run--7b220b82-ee63-4688-9355-04036412a2c5-0', tool_calls=[{'name': 'tavily_search_results_json', 'args': {'query': 'recent AI news'}, 'id': '6zbdytbnt', 'type': 'tool_call'}], usage_metadata={'input_tokens': 462, 'output_tokens': 143, 'total_tokens': 605})"
      ]
     },
     "execution_count": 12,
     "metadata": {},
     "output_type": "execute_result"
    }
   ],
   "source": [
    "from pprint import pprint\n",
    "from langchain_core.messages import AIMessage, HumanMessage\n",
    "llm_with_tools.invoke([HumanMessage(content=f\"What is the recent AI News\")])"
   ]
  },
  {
   "cell_type": "code",
   "execution_count": 13,
   "id": "719c25b9",
   "metadata": {},
   "outputs": [
    {
     "data": {
      "text/plain": [
       "[{'name': 'tavily_search_results_json',\n",
       "  'args': {'query': 'recent AI news'},\n",
       "  'id': 'a64k2a77b',\n",
       "  'type': 'tool_call'}]"
      ]
     },
     "execution_count": 13,
     "metadata": {},
     "output_type": "execute_result"
    }
   ],
   "source": [
    "llm_with_tools.invoke([HumanMessage(content=f\"What is the recent AI news\")]).tool_calls"
   ]
  },
  {
   "cell_type": "code",
   "execution_count": 14,
   "id": "8a6e78f7",
   "metadata": {},
   "outputs": [],
   "source": [
    "from langgraph.graph import StateGraph, START, END\n",
    "from typing import TypedDict, Annotated\n",
    "from langgraph.prebuilt import ToolNode, tools_condition\n",
    "from langgraph.graph.message import add_messages, AnyMessage"
   ]
  },
  {
   "cell_type": "code",
   "execution_count": 15,
   "id": "f01c8803",
   "metadata": {},
   "outputs": [],
   "source": [
    "class State(TypedDict):\n",
    "    messages: Annotated[list[AnyMessage], add_messages]"
   ]
  },
  {
   "cell_type": "code",
   "execution_count": 16,
   "id": "c4c55b76",
   "metadata": {},
   "outputs": [],
   "source": [
    "from IPython.display import Image, display\n",
    "\n",
    "def tool_calling_llm(state: State):\n",
    "    return {\"messages\" : [llm_with_tools.invoke(state[\"messages\"])]}\n",
    "\n",
    "\n",
    "# Build graph\n",
    "builder = StateGraph(State)\n",
    "builder.add_node(\"tool_calling_llm\", tool_calling_llm)\n",
    "builder.add_node(\"tools\",ToolNode(tools))\n",
    "\n",
    "builder.add_edge(START,\"tool_calling_llm\")\n",
    "builder.add_conditional_edges(\"tool_calling_llm\", tools_condition,)\n",
    "builder.add_edge(\"tools\",\"tool_calling_llm\")\n",
    "\n",
    "graph = builder.compile()\n"
   ]
  },
  {
   "cell_type": "markdown",
   "id": "a6d94ac5",
   "metadata": {},
   "source": [
    "tools_condition function internally returns two possible outputs:\n",
    "\n",
    "\"tool_use\" → ToolNode ke edge pe jaata hai.\n",
    "\n",
    "\"end\" → END node ke edge pe jaata hai (implicit default behavior).\n",
    "\n",
    "Even though tumne explicitly builder.add_edge(\"tool_calling_llm\", END) nahi likha,\n",
    "LangGraph yeh automatically samajhta hai:\n",
    "\n",
    "“Agar tools_condition 'end' return karega, toh graph END node pe jaayega.”"
   ]
  },
  {
   "cell_type": "code",
   "execution_count": 17,
   "id": "90dfd0f1",
   "metadata": {},
   "outputs": [
    {
     "data": {
      "image/png": "[encoded data removed]",
      "text/plain": [
       "<langgraph.graph.state.CompiledStateGraph object at 0x000001DA03991FA0>"
      ]
     },
     "execution_count": 17,
     "metadata": {},
     "output_type": "execute_result"
    }
   ],
   "source": [
    "graph"
   ]
  },
  {
   "cell_type": "code",
   "execution_count": 20,
   "id": "9ed59ace",
   "metadata": {},
   "outputs": [
    {
     "name": "stdout",
     "output_type": "stream",
     "text": [
      "================================\u001b[1m Human Message \u001b[0m=================================\n",
      "\n",
      "Provide me the top 5 recent AI news from march 3rd 2025, add 5 plus 5 and then multiply by 10\n",
      "==================================\u001b[1m Ai Message \u001b[0m==================================\n",
      "Tool Calls:\n",
      "  tavily_search_results_json (b6f6xqzeq)\n",
      " Call ID: b6f6xqzeq\n",
      "  Args:\n",
      "    query: top 5 AI news March 3 2025\n",
      "  add (ex8xz0zt2)\n",
      " Call ID: ex8xz0zt2\n",
      "  Args:\n",
      "    a: 5\n",
      "    b: 5\n",
      "  multiply (fgt2cpak1)\n",
      " Call ID: fgt2cpak1\n",
      "  Args:\n",
      "    a: 10\n",
      "    b: 10\n",
      "=================================\u001b[1m Tool Message \u001b[0m=================================\n",
      "Name: tavily_search_results_json\n",
      "\n",
      "[{\"title\": \"Weekly AI News: 3 March 2025 - AIforBusiness.net - LinkedIn\", \"url\": \"https://www.linkedin.com/pulse/weekly-ai-news-3-march-2025-aiforbusinessnet-johan-steyn-qrumf\", \"content\": \"This week’s AI update explores some of the most impactful developments shaping technology and society. OpenAI has unveiled GPT-4.5, a cutting-edge model with enhanced intuition and emotional intelligence. While its capabilities push AI closer to human-like perception, its high computational demands raise concerns about accessibility, particularly for smaller businesses. [...] A thought-provoking analysis in the Daily Maverick questions AI’s growing influence, warning that biases within AI systems could shape decision-making in unpredictable ways. As AI becomes more embedded in hiring, finance, and governance, are we truly in control?\\n\\nGoogle’s decision to ease restrictions on AI use for military and surveillance purposes has ignited debate over the ethical boundaries of AI deployment. Should corporations define these limits, or should governments step in? [...] Meanwhile, AI is revolutionising taxation. The IMF reports that governments are leveraging AI to detect fraud and streamline audits, while taxpayers benefit from automated filing systems. However, privacy and fairness remain key concerns.\", \"score\": 0.90692574}, {\"title\": \"AI Legal Watch: March 3, 2025 | Thought Leadership - Baker Botts\", \"url\": \"https://www.bakerbotts.com/thought-leadership/publications/2025/march/ai-legal-watch---march-3\", \"content\": \"1.   AI Counsel Code Podcast: Maggie Welsh welcomes Parker Hancock to explore AI advancements and upcoming regulatory shifts for 2025 in \\\"AI Outlook for 2025.\\\" They delve into key technologies like DeepSeek models and test time compute, while unpacking crucial updates on AI regulations, including the EU AI Act and state-level U.S. laws. The conversation also covers how companies can navigate AI risks, with a particular focus on copyright and application-specific compliance. [...] 2.   Copyright Office Releases Part 2 of Artificial Intelligence Report: Senior Associate Nick Palmieri reviews part two of U.S. Copyright Office's report on Artificial Intelligence (\\\"AI\\\"), which addresses the topic of “copyrightability” as it relates to AI.\\n3.   Client Update: Federal District Court Holds AI Training Not Protected by Fair Use: Read more key takeaways of Judge Stephanos Bilbas' opinion in _Thomson Reuters Enterprise Centre GmbH et al. v. ROSS Intelligence Inc_.\", \"score\": 0.90018827}, {\"title\": \"AI Weekly Digest - March 3 2025 - LinkedIn\", \"url\": \"https://www.linkedin.com/pulse/ai-weekly-digest-march-3-2025-pa-media-ddmie\", \"content\": \"Alibaba's Wan 2.1 now open source\\n\\nAlibaba has announced its video and image-generating AI model Wan 2.1 is now publicly available - or open source. Reports said the Chinese e-commerce leader's move was likely to increase its uptake and further intensify competition in AI. The move follows Chinese startup DeepSeek's market disrupting rollout of low-cost open-source models last month.\\n\\nLawsuit: Google AI Overviews 'eroding demand for original content' [...] Mobile World Congress to be 'absolutely awash with AI'\\n\\nSTL Partners research director Amy Cameron said she expects this week's Mobile World Congress in Barcelona to be \\\"absolutely awash with AI\\\", adding: \\\"Within this I expect to hear a lot about activities supporting development of AI solutions for enterprise customers: Partnerships between telcos and lead AI tech platforms/players; Industry specific LLMs; Edge making a comeback with AI at the edge.”\\n\\nTo view or add a comment, sign in [...] Chinese search giant Baidu is set to launch an upgraded version of its Ernie chatbot next month, sources said. Reports said this will feature improved capabilities in areas such as reasoning, with the 4.5 version also coming with 'enhanced multimodal capabilities' - an AI system capable of processing and integrating data, including text video, images and audio.\\n\\nClaim: Rise of artificial intelligence to upend software jobs market\", \"score\": 0.8573986}, {\"title\": \"3 March 2025 - Latest AI News - Apple Podcasts\", \"url\": \"https://podcasts.apple.com/us/podcast/3-march-2025-latest-ai-news/id1755480003?i=1000697309136\", \"content\": \"Algeria\\n   Angola\\n   Armenia\\n   Azerbaijan\\n   Bahrain\\n   Benin\\n   Botswana\\n   Brunei Darussalam\\n   Burkina Faso\\n   Cameroun\\n   Cape Verde\\n   Chad\\n   Côte d’Ivoire\\n   Congo, The Democratic Republic Of The\\n   Egypt\\n   Eswatini\\n   Gabon\\n   Gambia\\n   Ghana\\n   Guinea-Bissau\\n   India\\n   Iraq\\n   Israel\\n   Jordan\\n   Kenya\\n   Kuwait\\n   Lebanon\\n   Liberia\\n   Libya\\n   Madagascar\\n   Malawi\\n   Mali\\n   Mauritania\\n   Mauritius\\n   Morocco\\n   Mozambique\\n   Namibia\\n   Niger (English)\\n   Nigeria\\n   Oman [...] Algeria\\n   Angola\\n   Armenia\\n   Azerbaijan\\n   Bahrain\\n   Benin\\n   Botswana\\n   Brunei Darussalam\\n   Burkina Faso\\n   Cameroun\\n   Cape Verde\\n   Chad\\n   Côte d’Ivoire\\n   Congo, The Democratic Republic Of The\\n   Egypt\\n   Eswatini\\n   Gabon\\n   Gambia\\n   Ghana\\n   Guinea-Bissau\\n   India\\n   Iraq\\n   Israel\\n   Jordan\\n   Kenya\\n   Kuwait\\n   Lebanon\\n   Liberia\\n   Libya\\n   Madagascar\\n   Malawi\\n   Mali\\n   Mauritania\\n   Mauritius\\n   Morocco\\n   Mozambique\\n   Namibia\\n   Niger (English)\\n   Nigeria\\n   Oman [...] Qatar\\n   Congo, Republic of\\n   Rwanda\\n   Saudi Arabia\\n   Senegal\\n   Seychelles\\n   Sierra Leone\\n   South Africa\\n   Sri Lanka\\n   Tajikistan\\n   Tanzania, United Republic Of\\n   Tunisia\\n   Turkmenistan\\n   United Arab Emirates\\n   Uganda\\n   Yemen\\n   Zambia\\n   Zimbabwe\", \"score\": 0.852752}, {\"title\": \"March 2025: All AI updates from the past month - SD Times\", \"url\": \"https://sdtimes.com/ai/march-2025-all-ai-updates-from-the-past-month/\", \"content\": \"The company also announced five additional agents from its Microsoft Security partners: Privacy Breach Response Agent by OneTrust, Network Supervisor Agent by Aviatrix, SecOps Tooling Agent by BlueVoyant, Alert Triage Agent by Tanium, and Task Optimizer Agent by Fletch.\\n\\nThe agents will be available in preview starting in April. [...] Claude will respond with direct citations of its web sources, allowing users to fact check the information.\\n\\nGoogle launches Canvas to enable easier collaboration with Gemini\\n\\nGoogle is making it easier for developers to collaborate with Gemini with the launch of Canvas, an interactive space to create and refine code.\\n\\nCanvas could be used to build reports, blog posts, study guides, visual timelines, interactive prototypes, code snippets, and more. [...] The new agents include a Phishing Triage Agent in Microsoft Defender, Alert Triage Agents in Microsoft Purview, Conditional Access Optimization Agent in Microsoft Entra, Vulnerability Remediation Agent in Microsoft Intune, and Threat Intelligence Briefing Agent in Security Copilot.\", \"score\": 0.838376}]\n",
      "=================================\u001b[1m Tool Message \u001b[0m=================================\n",
      "Name: add\n",
      "\n",
      "10\n",
      "=================================\u001b[1m Tool Message \u001b[0m=================================\n",
      "Name: multiply\n",
      "\n",
      "100\n",
      "==================================\u001b[1m Ai Message \u001b[0m==================================\n",
      "\n",
      "Here's the information you requested:\n",
      "\n",
      "**Top 5 Recent AI News (March 3, 2025):**\n",
      "1. **OpenAI's GPT-4.5** - Enhanced intuition and emotional intelligence with concerns about accessibility for small businesses. [Source](https://www.linkedin.com/pulse/weekly-ai-news-3-march-2025-aiforbusinessnet-johan-steyn-qrumf)\n",
      "2. **Google eases AI military/surveillance restrictions** - Sparking debates about ethical boundaries. [Source](https://www.linkedin.com/pulse/weekly-ai-news-3-march-2025-aiforbusinessnet-johan-steyn-qrumf)\n",
      "3. **Alibaba opens Wan 2.1** - Open-source video/image-generating AI intensifying global competition. [Source](https://www.linkedin.com/pulse/ai-weekly-digest-march-3-2025-pa-media-ddmie)\n",
      "4. **AI Legal Developments** - Key updates on EU AI Act, U.S. copyright rulings, and corporate compliance. [Source](https://www.bakerbotts.com/thought-leadership/publications/2025/march/ai-legal-watch---march-3)\n",
      "5. **Microsoft's AI Security Agents** - Five new agents for threat detection and response. [Source](https://sdtimes.com/ai/march-2025-all-ai-updates-from-the-past-month/)\n",
      "\n",
      "**Math Result:**  \n",
      "(5 + 5) × 10 = **100**\n"
     ]
    }
   ],
   "source": [
    "messages = graph.invoke({\"messages\":HumanMessage(content=\"Provide me the top 5 recent AI news from march 3rd 2025, add 5 plus 5 and then multiply by 10\")})\n",
    "for m in messages['messages']:\n",
    "    m.pretty_print()"
   ]
  },
  {
   "cell_type": "markdown",
   "id": "950ee53a",
   "metadata": {},
   "source": [
    "# Agent Memory"
   ]
  },
  {
   "cell_type": "code",
   "execution_count": 21,
   "id": "4274f0cc",
   "metadata": {},
   "outputs": [
    {
     "name": "stdout",
     "output_type": "stream",
     "text": [
      "================================\u001b[1m Human Message \u001b[0m=================================\n",
      "\n",
      "what is 5 plus 8\n",
      "==================================\u001b[1m Ai Message \u001b[0m==================================\n",
      "Tool Calls:\n",
      "  add (afb0r7y3d)\n",
      " Call ID: afb0r7y3d\n",
      "  Args:\n",
      "    a: 5\n",
      "    b: 8\n",
      "=================================\u001b[1m Tool Message \u001b[0m=================================\n",
      "Name: add\n",
      "\n",
      "13\n",
      "==================================\u001b[1m Ai Message \u001b[0m==================================\n",
      "\n",
      "The result of 5 plus 8 is **13**.\n"
     ]
    }
   ],
   "source": [
    "messages = graph.invoke({\"messages\":HumanMessage(content=\"what is 5 plus 8\")})\n",
    "for m in messages['messages']:\n",
    "    m.pretty_print()"
   ]
  },
  {
   "cell_type": "code",
   "execution_count": 22,
   "id": "390cbc75",
   "metadata": {},
   "outputs": [
    {
     "name": "stdout",
     "output_type": "stream",
     "text": [
      "================================\u001b[1m Human Message \u001b[0m=================================\n",
      "\n",
      "Divide that by 5\n",
      "==================================\u001b[1m Ai Message \u001b[0m==================================\n",
      "\n",
      "The query \"Divide that by 5\" is ambiguous because it references an undefined value (\"that\"). To proceed, I need clarification about what number or expression should be divided by 5. Please provide the specific value or context for \"that.\"\n"
     ]
    }
   ],
   "source": [
    "messages = graph.invoke({\"messages\":HumanMessage(content=\"Divide that by 5\")})\n",
    "for m in messages['messages']:\n",
    "    m.pretty_print()"
   ]
  },
  {
   "cell_type": "code",
   "execution_count": null,
   "id": "69cb6691",
   "metadata": {},
   "outputs": [],
   "source": [
    " "
   ]
  }
 ],
 "metadata": {
  "kernelspec": {
   "display_name": "Python 3",
   "language": "python",
   "name": "python3"
  },
  "language_info": {
   "codemirror_mode": {
    "name": "ipython",
    "version": 3
   },
   "file_extension": ".py",
   "mimetype": "text/x-python",
   "name": "python",
   "nbconvert_exporter": "python",
   "pygments_lexer": "ipython3",
   "version": "3.12.0"
  }
 },
 "nbformat": 4,
 "nbformat_minor": 5
}

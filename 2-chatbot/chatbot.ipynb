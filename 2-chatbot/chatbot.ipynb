{
 "cells": [
  {
   "cell_type": "markdown",
   "id": "d4903e29",
   "metadata": {},
   "source": [
    "## Implementing Simple chatbot using Langgraph"
   ]
  },
  {
   "cell_type": "markdown",
   "id": "2cfc4693",
   "metadata": {},
   "source": []
  }
 ],
 "metadata": {
  "kernelspec": {
   "display_name": "Python 3",
   "language": "python",
   "name": "python3"
  },
  "language_info": {
   "name": "python",
   "version": "3.12.0"
  }
 },
 "nbformat": 4,
 "nbformat_minor": 5
}
